{
  "nbformat": 4,
  "nbformat_minor": 0,
  "metadata": {
    "colab": {
      "name": "Untitled0.ipynb",
      "provenance": []
    },
    "kernelspec": {
      "name": "python3",
      "display_name": "Python 3"
    },
    "language_info": {
      "name": "python"
    }
  },
  "cells": [
    {
      "cell_type": "code",
      "metadata": {
        "colab": {
          "base_uri": "https://localhost:8080/"
        },
        "id": "q2qCsuJYovHf",
        "outputId": "a3b2e352-f2b5-48a9-cdf9-29b10279fba2"
      },
      "source": [
        "#Assignment Day 1\n",
        "\n",
        "a=int(input('Enter First Variable:'))\n",
        "b=int(input('Enter Second Variable:'))\n",
        "c=pow(a,b)\n",
        "print(c)"
      ],
      "execution_count": 1,
      "outputs": [
        {
          "output_type": "stream",
          "text": [
            "Enter First Variable:2\n",
            "Enter Second Variable:3\n",
            "8\n"
          ],
          "name": "stdout"
        }
      ]
    }
  ]
}